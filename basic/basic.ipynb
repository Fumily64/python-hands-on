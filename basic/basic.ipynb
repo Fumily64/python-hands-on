{
 "cells": [
  {
   "cell_type": "markdown",
   "metadata": {},
   "source": [
    "# 基本課題"
   ]
  },
  {
   "cell_type": "markdown",
   "metadata": {},
   "source": [
    "#### 1. 任意の文字列 (xxx) を標準入力で受け取り，\"Hello, xxx!\" と出力せよ。"
   ]
  },
  {
   "cell_type": "code",
   "execution_count": 2,
   "metadata": {
    "scrolled": true
   },
   "outputs": [
    {
     "name": "stdout",
     "output_type": "stream",
     "text": [
      "名前を入力してください 大久保\n",
      "Hello, 大久保!!\n"
     ]
    }
   ],
   "source": [
    "test = input(\"名前を入力してください \")\n",
    "print(\"Hello, {}!!\".format(test))"
   ]
  },
  {
   "cell_type": "markdown",
   "metadata": {},
   "source": [
    "#### 2. 任意の整数を標準入力で受け取り，\"100\" との和差積商を出力せよ。"
   ]
  },
  {
   "cell_type": "code",
   "execution_count": 6,
   "metadata": {},
   "outputs": [
    {
     "name": "stdout",
     "output_type": "stream",
     "text": [
      "0以外の整数を入力してください 100\n",
      "整数:100\n",
      "和:200\n",
      "差:0\n",
      "積:10000\n",
      "商:1.0\n"
     ]
    }
   ],
   "source": [
    "s=100\n",
    "while True:\n",
    "    try:\n",
    "        t=int(input(\"0以外の整数を入力してください \"))\n",
    "        if t == 0:\n",
    "            print(\"0以外の整数を入力してください\")\n",
    "        else:\n",
    "            break\n",
    "    except ValueError:\n",
    "        print(\"正しい値を入力してください\")\n",
    "a=s+t\n",
    "b=s-t\n",
    "c=s*t\n",
    "d=s/t\n",
    "print(\"整数:{}\".format(t))\n",
    "print(\"和:{}\".format(a))\n",
    "print(\"差:{}\".format(b))\n",
    "print(\"積:{}\".format(c))\n",
    "print(\"商:{}\".format(d))"
   ]
  },
  {
   "cell_type": "markdown",
   "metadata": {},
   "source": [
    "#### 3. 1から50のリストを作って，その最大値，最小値，合計値，平均値を出力せよ。"
   ]
  },
  {
   "cell_type": "code",
   "execution_count": 4,
   "metadata": {
    "scrolled": false
   },
   "outputs": [
    {
     "name": "stdout",
     "output_type": "stream",
     "text": [
      "最大値:50\n",
      "最小値:1\n",
      "合計値:1275\n",
      "平均値:25.5\n"
     ]
    }
   ],
   "source": [
    "testlist=[]\n",
    "for i in range(1,51):\n",
    "    testlist.append(i)\n",
    "\n",
    "print(\"最大値:{}\".format(max(testlist)))\n",
    "print(\"最小値:{}\".format(min(testlist)))\n",
    "print(\"合計値:{}\".format(sum(testlist)))\n",
    "print(\"平均値:{}\".format(sum(testlist)/len(testlist)))"
   ]
  },
  {
   "cell_type": "markdown",
   "metadata": {},
   "source": [
    "#### 4. 3. で作ったリストに 51から100のリストを追加せよ。また，そのリストから30から70までの偶数要素のみを出力せよ。"
   ]
  },
  {
   "cell_type": "code",
   "execution_count": 5,
   "metadata": {},
   "outputs": [
    {
     "name": "stdout",
     "output_type": "stream",
     "text": [
      "30から70までの偶数要素 \n",
      "\n",
      "30\n",
      "32\n",
      "34\n",
      "36\n",
      "38\n",
      "40\n",
      "42\n",
      "44\n",
      "46\n",
      "48\n",
      "50\n",
      "52\n",
      "54\n",
      "56\n",
      "58\n",
      "60\n",
      "62\n",
      "64\n",
      "66\n",
      "68\n",
      "70\n"
     ]
    }
   ],
   "source": [
    "testlist=[]\n",
    "for i in range(1,51):\n",
    "    testlist.append(i)\n",
    "\n",
    "for i in range(51,101):\n",
    "    testlist.append(i)\n",
    "    \n",
    "print(\"30から70までの偶数要素\",\"\\n\")\n",
    "for i in testlist:\n",
    "    if i % 2 == 0 and 30<=i<=70:\n",
    "        print(i)"
   ]
  },
  {
   "cell_type": "markdown",
   "metadata": {},
   "source": [
    "#### 5. 講習参加者の姓を key, 学年を value とする辞書を作り，全要素を for 文を用いて出力せよ。"
   ]
  },
  {
   "cell_type": "code",
   "execution_count": 11,
   "metadata": {},
   "outputs": [
    {
     "name": "stdout",
     "output_type": "stream",
     "text": [
      "参加者の名前と学年の一覧です\n",
      "('松田', 4)\n",
      "('萩本', 4)\n",
      "('山田', 4)\n",
      "('関', 4)\n",
      "('大久保', 4)\n"
     ]
    }
   ],
   "source": [
    "testdict={\"松田\":4,\"萩本\":4,\"山田\":4,\"関\":4,\"大久保\":4}\n",
    "\n",
    "print(\"参加者の名前と学年の一覧です\")\n",
    "for i in testdict.items():\n",
    "    print(i)"
   ]
  },
  {
   "cell_type": "markdown",
   "metadata": {},
   "source": [
    "#### 6. 1から100の範囲で，3で割り切れる場合は\"Fizz\"，5で割り切れる場合は\"Buzz\"，そのどちらでも割り切れる場合は\"FizzBuzz\"，いずれでもない場合はそのまま数字を出力せよ。\n",
    "##### 出力例\n",
    "```bash\n",
    "1, 2, \"Fizz\", 4, \"Buzz\", \"Fizz\", ..., 14, \"FizzBuzz\", 16, ...\n",
    "```"
   ]
  },
  {
   "cell_type": "code",
   "execution_count": 103,
   "metadata": {},
   "outputs": [
    {
     "name": "stdout",
     "output_type": "stream",
     "text": [
      "1\n",
      "2\n",
      "Fizz\n",
      "4\n",
      "Buzz\n",
      "Fizz\n",
      "7\n",
      "8\n",
      "Fizz\n",
      "Buzz\n",
      "11\n",
      "Fizz\n",
      "13\n",
      "14\n",
      "FizzBuzz\n",
      "16\n",
      "17\n",
      "Fizz\n",
      "19\n",
      "Buzz\n",
      "Fizz\n",
      "22\n",
      "23\n",
      "Fizz\n",
      "Buzz\n",
      "26\n",
      "Fizz\n",
      "28\n",
      "29\n",
      "FizzBuzz\n",
      "31\n",
      "32\n",
      "Fizz\n",
      "34\n",
      "Buzz\n",
      "Fizz\n",
      "37\n",
      "38\n",
      "Fizz\n",
      "Buzz\n",
      "41\n",
      "Fizz\n",
      "43\n",
      "44\n",
      "FizzBuzz\n",
      "46\n",
      "47\n",
      "Fizz\n",
      "49\n",
      "Buzz\n",
      "Fizz\n",
      "52\n",
      "53\n",
      "Fizz\n",
      "Buzz\n",
      "56\n",
      "Fizz\n",
      "58\n",
      "59\n",
      "FizzBuzz\n",
      "61\n",
      "62\n",
      "Fizz\n",
      "64\n",
      "Buzz\n",
      "Fizz\n",
      "67\n",
      "68\n",
      "Fizz\n",
      "Buzz\n",
      "71\n",
      "Fizz\n",
      "73\n",
      "74\n",
      "FizzBuzz\n",
      "76\n",
      "77\n",
      "Fizz\n",
      "79\n",
      "Buzz\n",
      "Fizz\n",
      "82\n",
      "83\n",
      "Fizz\n",
      "Buzz\n",
      "86\n",
      "Fizz\n",
      "88\n",
      "89\n",
      "FizzBuzz\n",
      "91\n",
      "92\n",
      "Fizz\n",
      "94\n",
      "Buzz\n",
      "Fizz\n",
      "97\n",
      "98\n",
      "Fizz\n",
      "Buzz\n"
     ]
    }
   ],
   "source": [
    "for i in range(1,101):\n",
    "    if i % 3 == 0 and i % 5 == 0:\n",
    "        print(\"FizzBuzz\")\n",
    "    elif i % 3 == 0 and i % 5 != 0:\n",
    "        print(\"Fizz\")\n",
    "    elif i % 3 != 0 and i % 5 == 0:\n",
    "        print(\"Buzz\")\n",
    "    else:\n",
    "        print(i)"
   ]
  },
  {
   "cell_type": "markdown",
   "metadata": {},
   "source": [
    "#### 7.　2つの自然数の最大公約数を求める関数を実装せよ。"
   ]
  },
  {
   "cell_type": "code",
   "execution_count": 19,
   "metadata": {},
   "outputs": [
    {
     "name": "stdout",
     "output_type": "stream",
     "text": [
      "2つの自然数の最大公約数を求めます\n",
      "1つ目の自然数を入力してください 336\n",
      "2つ目の自然数を入力してください 9981\n",
      "最大公約数は 3 です\n"
     ]
    }
   ],
   "source": [
    "print(\"2つの自然数の最大公約数を求めます\")\n",
    "while True:\n",
    "    try:\n",
    "        one=int(input(\"1つ目の自然数を入力してください \"))\n",
    "        if one > 0:\n",
    "            break\n",
    "        else:\n",
    "            print(\"自然数を入力してください\")\n",
    "    except ValueError:\n",
    "        print(\"正しい値を入力してください\")\n",
    "\n",
    "while True:\n",
    "    try:\n",
    "        two=int(input(\"2つ目の自然数を入力してください \"))\n",
    "        if two > 0:\n",
    "            break\n",
    "        else:\n",
    "            print(\"自然数を入力してください\")\n",
    "    except ValueError:\n",
    "        print(\"正しい値を入力してください\")\n",
    "        \n",
    "if one >= two:\n",
    "    smaller = two\n",
    "else:\n",
    "    smaller = one\n",
    "\n",
    "for i in range(1,smaller+1):\n",
    "    if one % i == 0 and two % i == 0:\n",
    "        gcd = i\n",
    "        \n",
    "print(\"最大公約数は\",gcd,\"です\")"
   ]
  },
  {
   "cell_type": "markdown",
   "metadata": {},
   "source": [
    "#### 8. `address-tab.txt`を読み込み，先頭から５行のみを出力せよ。また，タブをスペースに変換した結果を `address-space.txt` に書き込め。"
   ]
  },
  {
   "cell_type": "code",
   "execution_count": 4,
   "metadata": {
    "scrolled": true
   },
   "outputs": [
    {
     "name": "stdout",
     "output_type": "stream",
     "text": [
      "['愛知県名古屋市守山区 桔梗平', '富山県砺波市 大窪', '島根県邑智郡美郷町 久保', '愛知県稲沢市 横地', '宮城県栗原市 高清水下折木']\n"
     ]
    }
   ],
   "source": [
    "address=open(\"address-tab.txt\",encoding=\"UTF-8\")\n",
    "\n",
    "adlist=address.readlines()\n",
    "adlist_2=[line.replace(\"\\t\",\" \").replace(\"\\n\",\"\") for line in adlist]\n",
    "print(adlist_2[0:5])\n",
    "\n",
    "adlist_space=[line.replace(\"\\t\",\" \") for line in adlist]\n",
    "address_space=open(\"address-space.txt\",encoding=\"UTF-8\",mode=\"w\")\n",
    "address_space.writelines(adlist_space)\n",
    "\n"
   ]
  },
  {
   "cell_type": "markdown",
   "metadata": {},
   "source": [
    "#### 9. モンテカルロ法 (10,000点) を用いて円周率の近似値を求めよ。なお `NumPy` を用いること。\n",
    "\n",
    "> 参考：[NumPy 公式サイト](https://docs.scipy.org/doc/numpy/)"
   ]
  },
  {
   "cell_type": "code",
   "execution_count": 12,
   "metadata": {},
   "outputs": [
    {
     "name": "stdout",
     "output_type": "stream",
     "text": [
      "3.1548\n"
     ]
    }
   ],
   "source": [
    "import numpy as np\n",
    "N=10000\n",
    "count=0\n",
    "\n",
    "x=np.random.rand(N)\n",
    "y=np.random.rand(N)\n",
    "square=x*x+y*y\n",
    "count=np.sum(square <= 1)\n",
    "\n",
    "pi=4*count/N\n",
    "print(pi)"
   ]
  },
  {
   "cell_type": "markdown",
   "metadata": {},
   "source": [
    "#### 10. 以下のセルを実行して得られるデータ **(freq, spec)** を `Matplotlib` を用いて描画せよ。なお，タイトル，ラベル，凡例もつけること。\n",
    "\n",
    "> 参考：[Matplotlib 公式サイト](https://matplotlib.org/)"
   ]
  },
  {
   "cell_type": "code",
   "execution_count": 93,
   "metadata": {},
   "outputs": [],
   "source": [
    "import numpy as np\n",
    "\n",
    "SAMP_NUM = 256\n",
    "SAMP_INT = 0.01\n",
    "\n",
    "f1, f2 = 10, 20\n",
    "t = np.arange(0, SAMP_NUM * SAMP_INT, SAMP_INT)\n",
    "signal = np.sin(2*np.pi*f1*t) + np.sin(2*np.pi*f2*t) + np.random.randn(SAMP_NUM)\n",
    "\n",
    "freq = np.linspace(0, 1.0/SAMP_INT, SAMP_NUM)\n",
    "spec = np.abs(np.fft.fft(signal))"
   ]
  },
  {
   "cell_type": "code",
   "execution_count": 19,
   "metadata": {},
   "outputs": [
    {
     "data": {
      "text/plain": [
       "<matplotlib.legend.Legend at 0xfd45dd12e8>"
      ]
     },
     "execution_count": 19,
     "metadata": {},
     "output_type": "execute_result"
    },
    {
     "data": {
      "image/png": "[encoded data removed]",
      "text/plain": [
       "<Figure size 432x288 with 1 Axes>"
      ]
     },
     "metadata": {
      "needs_background": "light"
     },
     "output_type": "display_data"
    }
   ],
   "source": [
    "import numpy as np\n",
    "import matplotlib.pyplot as plt\n",
    "\n",
    "SAMP_NUM = 256\n",
    "SAMP_INT = 0.01\n",
    "\n",
    "f1, f2 = 10, 20\n",
    "t = np.arange(0, SAMP_NUM * SAMP_INT, SAMP_INT)\n",
    "signal = np.sin(2*np.pi*f1*t) + np.sin(2*np.pi*f2*t) + np.random.randn(SAMP_NUM)\n",
    "\n",
    "freq = np.linspace(0, 1.0/SAMP_INT, SAMP_NUM)\n",
    "spec = np.abs(np.fft.fft(signal))\n",
    "\n",
    "plt.title(\"Fast Fourier Transform\")\n",
    "plt.xlabel(\"Frequency\")\n",
    "plt.ylabel(\"Spectrum\")\n",
    "plt.plot(freq,spec,label=\"Spectrum\")\n",
    "plt.legend(bbox_to_anchor=(1,1),loc=\"upper right\",borderaxespad=0,fontsize=18)"
   ]
  },
  {
   "cell_type": "markdown",
   "metadata": {},
   "source": [
    "#### Bonus : 10. と同様のグラフを `Bokeh` を用いて描画せよ。（Note: `Bokeh` はインストールされてない。）\n",
    "> 参考：[Bokeh 公式サイト](https://bokeh.pydata.org/en/latest/)"
   ]
  },
  {
   "cell_type": "code",
   "execution_count": null,
   "metadata": {},
   "outputs": [],
   "source": []
  }
 ],
 "metadata": {
  "kernelspec": {
   "display_name": "Python 3",
   "language": "python",
   "name": "python3"
  },
  "language_info": {
   "codemirror_mode": {
    "name": "ipython",
    "version": 3
   },
   "file_extension": ".py",
   "mimetype": "text/x-python",
   "name": "python",
   "nbconvert_exporter": "python",
   "pygments_lexer": "ipython3",
   "version": "3.7.3"
  }
 },
 "nbformat": 4,
 "nbformat_minor": 2
}
